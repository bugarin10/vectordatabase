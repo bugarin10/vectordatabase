{
 "cells": [
  {
   "cell_type": "code",
   "execution_count": 3,
   "metadata": {},
   "outputs": [
    {
     "name": "stderr",
     "output_type": "stream",
     "text": [
      "/Users/rafaeldavila/Documents/Duke/Sem2/Cloud/miniprojects/7_vectordb/vectordatabase/venv/lib/python3.11/site-packages/tqdm/auto.py:21: TqdmWarning: IProgress not found. Please update jupyter and ipywidgets. See https://ipywidgets.readthedocs.io/en/stable/user_install.html\n",
      "  from .autonotebook import tqdm as notebook_tqdm\n"
     ]
    }
   ],
   "source": [
    "import langchain\n",
    "import pandas\n",
    "from sentence_transformers import SentenceTransformer, util\n",
    "from utils import *\n",
    "from langchain.text_splitter import TokenTextSplitter\n",
    "\n",
    "\n",
    "# Reading my RESUME\n",
    "with open(\"resume.txt\", \"r\") as file:\n",
    "    # Read the entire content of the file\n",
    "    text_to_split = file.read()\n",
    "\n",
    "text_splitter = TokenTextSplitter(\n",
    "    encoding_name=\"gpt2\", chunk_size=250, chunk_overlap=10\n",
    ")\n",
    "texts = text_splitter.split_text(text_to_split)"
   ]
  },
  {
   "cell_type": "code",
   "execution_count": 4,
   "metadata": {},
   "outputs": [],
   "source": [
    "texts = list(map(lambda x: x.replace(\"\\n\", \" \"), texts))\n",
    "\n",
    "model = SentenceTransformer(\"sentence-transformers/all-MiniLM-L6-v2\")\n",
    "# embedding_list = list(map(lambda sentence: list(model.encode(sentence)),texts))\n",
    "\n",
    "embedding_list = model.encode(texts)"
   ]
  },
  {
   "cell_type": "code",
   "execution_count": 5,
   "metadata": {},
   "outputs": [
    {
     "name": "stdout",
     "output_type": "stream",
     "text": [
      "Loaded existing collection: mycollection\n"
     ]
    }
   ],
   "source": [
    "import chromadb\n",
    "\n",
    "chroma_client = chromadb.Client()\n",
    "\n",
    "# Create or load a collection\n",
    "collection_name = \"mycollection\"\n",
    "\n",
    "# Get all collections\n",
    "collections = chroma_client.list_collections()\n",
    "\n",
    "# Extract names from collection objects\n",
    "collection_names = [collection.name for collection in collections]\n",
    "\n",
    "# Check if the collection exists\n",
    "if collection_name in collection_names:\n",
    "    # Load the existing collection\n",
    "    collection = chroma_client.get_collection(collection_name)\n",
    "    print(\"Loaded existing collection:\", collection_name)\n",
    "else:\n",
    "    # Create a new collection and add data to it\n",
    "    collection = chroma_client.create_collection(name=collection_name)\n",
    "    print(\"Created new collection:\", collection_name)\n",
    "\n",
    "\n",
    "collection.add(\n",
    "    embeddings=embedding_list,\n",
    "    documents=texts,\n",
    "    ids=[\"ID\" + str(i) for i in range(len(embedding_list))],\n",
    ")"
   ]
  },
  {
   "cell_type": "code",
   "execution_count": 6,
   "metadata": {},
   "outputs": [],
   "source": [
    "similar_documents = collection.query(query_texts=[\"Tell me about sodemca\"], n_results=3)"
   ]
  },
  {
   "cell_type": "code",
   "execution_count": 8,
   "metadata": {},
   "outputs": [
    {
     "data": {
      "text/plain": [
       "{'ids': [['ID3', 'ID0', 'ID4']],\n",
       " 'distances': [[1.5084185600280762, 1.5443986654281616, 1.5851678848266602]],\n",
       " 'metadatas': [[None, None, None]],\n",
       " 'embeddings': None,\n",
       " 'documents': [[\"ulbright Overview:  Rafael Dávila Bugarín, a notable graduate of Universidad Autónoma de Aguascalientes (UAA), has received the prestigious Fulbright-García Robles scholarship for his second master's degree in the USA. He's chosen Duke University in North Carolina for his studies in Data Science.  The Fulbright-García Robles scholarship has benefited around 5,000 scholars from Mexico and the USA over 30 years. It's administered by COMEXUS and is highly respected for its rigorous selection process.  Rafael also works at the Instituto Federal de Telecomunicaciones and values the role of mathematics in his career. He's passionate about inspiring young minds through mathematics clubs for children.  Rafael Dávila Bugarín will begin his studies in the USA this August, returning to Mexico afterward as per Fulbright scholarship policies to contribute to his home country's intellectual growth.   SODEMCA Overview:  Summer Course  A 5-Saturday program from 9 am to 1 pm encourages critical thinking through playful activities, strategy games, logic games, and a pre-algebra showcase.  Mathemat\",\n",
       "   'RAFAEL DAVILA-BUGARIN Durham, NC Phone: (919) 358 6976 Email: rafael.davilabugarin@duke.edu LinkedIn: Rafael Davila Bugarin GitHub: bugarin10 NGO: Sodemca Academy  Technical Skills Frameworks & Languages: Python, PyTorch, Tensorflow, PySpark, R, SQL, Tableau, Power BI, git, emacs, docker, AWS, Azure Languages: English, Spanish, French (B2)  Relevant Experience  Research Assistant Duke Center for Research & Engineering of AI Technology in Education Durham, NC January 2024 - Present  Developing AI-based software tools to enhance teaching and learning. Leading the data engineering process for Retrieval Augmented Generation (RAG) with Language Models (LLMs). Digital Transformation Officer Federal Telecommunications Institute Benito Juarez, Mexico City March 2021 – June 2023  Facilitated communication between IT and Business units. Identified and resolved data validation gaps and data source silos. Managed end-to-',\n",
       "   \" pre-algebra showcase.  Mathematics Club  Our flagship club offers support for mathematics enthusiasts to build a community and share their passion for mathematics.  Mathematics Olympiads  Mexico's progress in International Mathematics Olympiads is supported by volunteers. We aim to nurture mathletes through training with top instructors.  Support  We provide expert guidance for children facing challenges in learning mathematics.   SODEMCA's Theory of change  Objective:  To contribute to children's education in Mexico by teaching the following 21st-century skills:  1. Critical thinking, 2. Problem-solving, 3. Communication, 4. Collaboration, 5. Creativity and innovation.  How?  By creating mathematics clubs where:  1. We will nurture a love for this subject, 2. Provide a safe space to build community among members with similar interests, 3. Incorporate innovative educational materials, 4. Train teachers for better mathematics instruction, 5. Provide evidence-based support to parents for their children's educational development.  What are the consequences of learning mathematics?  1. Improves mental\"]],\n",
       " 'uris': None,\n",
       " 'data': None}"
      ]
     },
     "execution_count": 8,
     "metadata": {},
     "output_type": "execute_result"
    }
   ],
   "source": [
    "similar_documents"
   ]
  },
  {
   "cell_type": "code",
   "execution_count": 10,
   "metadata": {},
   "outputs": [],
   "source": [
    "context = [\" \".join(sublist) for sublist in similar_documents[\"documents\"]]"
   ]
  },
  {
   "cell_type": "code",
   "execution_count": 23,
   "metadata": {},
   "outputs": [
    {
     "name": "stdout",
     "output_type": "stream",
     "text": [
      "Rafael Davila Bugarín is a Mexican data scientist who has received the Fulbright-García Robles scholarship to pursue his second master's degree in Data Science at Duke University in North Carolina, USA. He works at the Instituto Federal de Telecomunicaciones and values the role of mathematics in his career. Rafael is also passionate about inspiring young minds through mathematics clubs for children.\n",
      "\n",
      "Rafael's technical skills include Python, PyTorch, Tensorflow, PySpark, R, SQL, Tableau, Power BI, git, emacs, docker, and AWS, among others. He has relevant experience as a research assistant at the Duke Center for Research & Engineering of AI Technology in Education, where he develops AI-based software tools to enhance teaching and learning.\n",
      "\n",
      "Rafael is also involved in various educational initiatives, including the Mathematics Club and Mathematics Olympiads, which aim to promote mathematics education in Mexico. He is part of the SODEMCA Overview, a summer course that encourages critical thinking through playful activities, strategy games, logic games, and a pre-algebra showcase.\n",
      "\n",
      "According to Rafael, learning mathematics can have numerous benefits for children, including improving their mental abilities, problem-solving skills, communication, collaboration, and creativity. He believes that by providing evidence-based support to parents and incorporating innovative educational materials, he can help nurture mathletes and contribute to the intellectual growth of Mexico.\n"
     ]
    }
   ],
   "source": [
    "import ollama\n",
    "\n",
    "question = \"Tell me about Rafael Davila\"\n",
    "content = f\"Answer the following question:{question}\\\n",
    "    With this context:{context}.\\\n",
    "    Do not provide answers outside this context.\"\n",
    "\n",
    "response = ollama.chat(\n",
    "    model=\"llama2\",\n",
    "    messages=[\n",
    "        {\"role\": \"user\", \"content\": content},\n",
    "    ],\n",
    ")\n",
    "print(response[\"message\"][\"content\"])"
   ]
  }
 ],
 "metadata": {
  "kernelspec": {
   "display_name": "venv",
   "language": "python",
   "name": "python3"
  },
  "language_info": {
   "codemirror_mode": {
    "name": "ipython",
    "version": 3
   },
   "file_extension": ".py",
   "mimetype": "text/x-python",
   "name": "python",
   "nbconvert_exporter": "python",
   "pygments_lexer": "ipython3",
   "version": "3.11.5"
  }
 },
 "nbformat": 4,
 "nbformat_minor": 2
}
